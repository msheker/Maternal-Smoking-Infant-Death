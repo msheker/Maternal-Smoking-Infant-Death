{
 "cells": [
  {
   "cell_type": "code",
   "execution_count": 1,
   "metadata": {
    "collapsed": true
   },
   "outputs": [],
   "source": [
    "import pandas as pd\n",
    "import matplotlib.pyplot as plt"
   ]
  },
  {
   "cell_type": "code",
   "execution_count": 2,
   "metadata": {
    "collapsed": false
   },
   "outputs": [],
   "source": [
    "f = open(\"babies.-1ibz3w3-2h9hx4o.txt\")\n",
    "\n",
    "header = 0\n",
    "lines = []\n",
    "\n",
    "for l in f:\n",
    "    if header == 0:\n",
    "        header = l.split(\" \")\n",
    "        lines.append([x.strip('\\n') for x in header])\n",
    "    else:\n",
    "        ln = []\n",
    "        for d in l.split(\" \"):\n",
    "            if( d == '' or d == \"\\n\"):\n",
    "                continue\n",
    "            ln.append(int(d.strip('\\n')))\n",
    "        lines.append(ln)\n",
    "f.close()\n",
    "\n",
    "nf = open(\"babies.txt\", \"w\")\n",
    "\n",
    "for vector in lines:\n",
    "    strl = \"\"\n",
    "    for elem in vector:\n",
    "        strl = strl + str(elem) + \",\"\n",
    "    strl = strl[:-1] + \"\\n\"\n",
    "    nf.write(strl)\n",
    "\n",
    "nf.close()"
   ]
  },
  {
   "cell_type": "code",
   "execution_count": 3,
   "metadata": {
    "collapsed": false,
    "scrolled": true
   },
   "outputs": [],
   "source": [
    "data = pd.read_csv(\"babies.txt\")\n",
    "\n",
    "#note 2 outliers exist\n",
    "data = data[data[\"age\"] < 90]\n",
    "#note 13 outliers exist\n",
    "data = data[data[\"gestation\"] < 500]\n",
    "\n",
    "data.sort_values(['bwt'])\n",
    "\n",
    "data_s = data[data[\"smoke\"] == 1]\n",
    "data_ns = data[data[\"smoke\"] == 0]"
   ]
  },
  {
   "cell_type": "code",
   "execution_count": 55,
   "metadata": {
    "collapsed": false
   },
   "outputs": [],
   "source": [
    "data.plot(x=\"age\", y=\"bwt\", kind=\"scatter\")\n",
    "plt.show()"
   ]
  },
  {
   "cell_type": "code",
   "execution_count": 56,
   "metadata": {
    "collapsed": true
   },
   "outputs": [],
   "source": [
    "data.plot(y=\"bwt\", x=\"gestation\", kind=\"scatter\")\n",
    "plt.show()"
   ]
  },
  {
   "cell_type": "code",
   "execution_count": 59,
   "metadata": {
    "collapsed": true
   },
   "outputs": [],
   "source": [
    "data.plot(x=\"age\", y=\"gestation\", kind=\"scatter\")\n",
    "plt.show()"
   ]
  },
  {
   "cell_type": "code",
   "execution_count": 5,
   "metadata": {
    "collapsed": true
   },
   "outputs": [],
   "source": [
    "data_s.plot(y=\"bwt\", x=\"gestation\", kind=\"scatter\")\n",
    "data_ns.plot(y=\"bwt\", x=\"gestation\", kind=\"scatter\")\n",
    "\n",
    "plt.show()\n",
    "\n"
   ]
  },
  {
   "cell_type": "code",
   "execution_count": 6,
   "metadata": {
    "collapsed": false
   },
   "outputs": [
    {
     "data": {
      "text/html": [
       "<div>\n",
       "<table border=\"1\" class=\"dataframe\">\n",
       "  <thead>\n",
       "    <tr style=\"text-align: right;\">\n",
       "      <th></th>\n",
       "      <th>bwt</th>\n",
       "      <th>gestation</th>\n",
       "      <th>parity</th>\n",
       "      <th>age</th>\n",
       "      <th>height</th>\n",
       "      <th>weight</th>\n",
       "      <th>smoke</th>\n",
       "    </tr>\n",
       "  </thead>\n",
       "  <tbody>\n",
       "    <tr>\n",
       "      <th>count</th>\n",
       "      <td>479.000000</td>\n",
       "      <td>479.000000</td>\n",
       "      <td>479.000000</td>\n",
       "      <td>479.000000</td>\n",
       "      <td>479.000000</td>\n",
       "      <td>479.000000</td>\n",
       "      <td>479.0</td>\n",
       "    </tr>\n",
       "    <tr>\n",
       "      <th>mean</th>\n",
       "      <td>114.081420</td>\n",
       "      <td>277.991649</td>\n",
       "      <td>0.252610</td>\n",
       "      <td>26.749478</td>\n",
       "      <td>64.966597</td>\n",
       "      <td>159.672234</td>\n",
       "      <td>1.0</td>\n",
       "    </tr>\n",
       "    <tr>\n",
       "      <th>std</th>\n",
       "      <td>18.179821</td>\n",
       "      <td>15.086915</td>\n",
       "      <td>0.434963</td>\n",
       "      <td>5.653883</td>\n",
       "      <td>6.045411</td>\n",
       "      <td>167.173847</td>\n",
       "      <td>0.0</td>\n",
       "    </tr>\n",
       "    <tr>\n",
       "      <th>min</th>\n",
       "      <td>58.000000</td>\n",
       "      <td>223.000000</td>\n",
       "      <td>0.000000</td>\n",
       "      <td>15.000000</td>\n",
       "      <td>53.000000</td>\n",
       "      <td>87.000000</td>\n",
       "      <td>1.0</td>\n",
       "    </tr>\n",
       "    <tr>\n",
       "      <th>25%</th>\n",
       "      <td>101.500000</td>\n",
       "      <td>271.000000</td>\n",
       "      <td>0.000000</td>\n",
       "      <td>22.000000</td>\n",
       "      <td>63.000000</td>\n",
       "      <td>112.000000</td>\n",
       "      <td>1.0</td>\n",
       "    </tr>\n",
       "    <tr>\n",
       "      <th>50%</th>\n",
       "      <td>115.000000</td>\n",
       "      <td>279.000000</td>\n",
       "      <td>0.000000</td>\n",
       "      <td>26.000000</td>\n",
       "      <td>64.000000</td>\n",
       "      <td>125.000000</td>\n",
       "      <td>1.0</td>\n",
       "    </tr>\n",
       "    <tr>\n",
       "      <th>75%</th>\n",
       "      <td>126.000000</td>\n",
       "      <td>286.000000</td>\n",
       "      <td>1.000000</td>\n",
       "      <td>30.000000</td>\n",
       "      <td>66.000000</td>\n",
       "      <td>140.000000</td>\n",
       "      <td>1.0</td>\n",
       "    </tr>\n",
       "    <tr>\n",
       "      <th>max</th>\n",
       "      <td>163.000000</td>\n",
       "      <td>330.000000</td>\n",
       "      <td>1.000000</td>\n",
       "      <td>43.000000</td>\n",
       "      <td>99.000000</td>\n",
       "      <td>999.000000</td>\n",
       "      <td>1.0</td>\n",
       "    </tr>\n",
       "  </tbody>\n",
       "</table>\n",
       "</div>"
      ],
      "text/plain": [
       "              bwt   gestation      parity         age      height      weight  \\\n",
       "count  479.000000  479.000000  479.000000  479.000000  479.000000  479.000000   \n",
       "mean   114.081420  277.991649    0.252610   26.749478   64.966597  159.672234   \n",
       "std     18.179821   15.086915    0.434963    5.653883    6.045411  167.173847   \n",
       "min     58.000000  223.000000    0.000000   15.000000   53.000000   87.000000   \n",
       "25%    101.500000  271.000000    0.000000   22.000000   63.000000  112.000000   \n",
       "50%    115.000000  279.000000    0.000000   26.000000   64.000000  125.000000   \n",
       "75%    126.000000  286.000000    1.000000   30.000000   66.000000  140.000000   \n",
       "max    163.000000  330.000000    1.000000   43.000000   99.000000  999.000000   \n",
       "\n",
       "       smoke  \n",
       "count  479.0  \n",
       "mean     1.0  \n",
       "std      0.0  \n",
       "min      1.0  \n",
       "25%      1.0  \n",
       "50%      1.0  \n",
       "75%      1.0  \n",
       "max      1.0  "
      ]
     },
     "execution_count": 6,
     "metadata": {},
     "output_type": "execute_result"
    }
   ],
   "source": [
    "data_s.describe()"
   ]
  },
  {
   "cell_type": "code",
   "execution_count": 7,
   "metadata": {
    "collapsed": false
   },
   "outputs": [
    {
     "data": {
      "text/html": [
       "<div>\n",
       "<table border=\"1\" class=\"dataframe\">\n",
       "  <thead>\n",
       "    <tr style=\"text-align: right;\">\n",
       "      <th></th>\n",
       "      <th>bwt</th>\n",
       "      <th>gestation</th>\n",
       "      <th>parity</th>\n",
       "      <th>age</th>\n",
       "      <th>height</th>\n",
       "      <th>weight</th>\n",
       "      <th>smoke</th>\n",
       "    </tr>\n",
       "  </thead>\n",
       "  <tbody>\n",
       "    <tr>\n",
       "      <th>count</th>\n",
       "      <td>732.000000</td>\n",
       "      <td>732.000000</td>\n",
       "      <td>732.000000</td>\n",
       "      <td>732.000000</td>\n",
       "      <td>732.000000</td>\n",
       "      <td>732.000000</td>\n",
       "      <td>732.0</td>\n",
       "    </tr>\n",
       "    <tr>\n",
       "      <th>mean</th>\n",
       "      <td>123.154372</td>\n",
       "      <td>280.178962</td>\n",
       "      <td>0.260929</td>\n",
       "      <td>27.536885</td>\n",
       "      <td>64.390710</td>\n",
       "      <td>148.493169</td>\n",
       "      <td>0.0</td>\n",
       "    </tr>\n",
       "    <tr>\n",
       "      <th>std</th>\n",
       "      <td>17.353473</td>\n",
       "      <td>16.637585</td>\n",
       "      <td>0.439442</td>\n",
       "      <td>5.836346</td>\n",
       "      <td>4.391301</td>\n",
       "      <td>128.932548</td>\n",
       "      <td>0.0</td>\n",
       "    </tr>\n",
       "    <tr>\n",
       "      <th>min</th>\n",
       "      <td>55.000000</td>\n",
       "      <td>148.000000</td>\n",
       "      <td>0.000000</td>\n",
       "      <td>17.000000</td>\n",
       "      <td>56.000000</td>\n",
       "      <td>89.000000</td>\n",
       "      <td>0.0</td>\n",
       "    </tr>\n",
       "    <tr>\n",
       "      <th>25%</th>\n",
       "      <td>113.000000</td>\n",
       "      <td>273.000000</td>\n",
       "      <td>0.000000</td>\n",
       "      <td>23.000000</td>\n",
       "      <td>62.000000</td>\n",
       "      <td>115.000000</td>\n",
       "      <td>0.0</td>\n",
       "    </tr>\n",
       "    <tr>\n",
       "      <th>50%</th>\n",
       "      <td>123.500000</td>\n",
       "      <td>281.000000</td>\n",
       "      <td>0.000000</td>\n",
       "      <td>26.500000</td>\n",
       "      <td>64.000000</td>\n",
       "      <td>127.000000</td>\n",
       "      <td>0.0</td>\n",
       "    </tr>\n",
       "    <tr>\n",
       "      <th>75%</th>\n",
       "      <td>134.000000</td>\n",
       "      <td>289.000000</td>\n",
       "      <td>1.000000</td>\n",
       "      <td>31.000000</td>\n",
       "      <td>66.000000</td>\n",
       "      <td>140.000000</td>\n",
       "      <td>0.0</td>\n",
       "    </tr>\n",
       "    <tr>\n",
       "      <th>max</th>\n",
       "      <td>176.000000</td>\n",
       "      <td>353.000000</td>\n",
       "      <td>1.000000</td>\n",
       "      <td>45.000000</td>\n",
       "      <td>99.000000</td>\n",
       "      <td>999.000000</td>\n",
       "      <td>0.0</td>\n",
       "    </tr>\n",
       "  </tbody>\n",
       "</table>\n",
       "</div>"
      ],
      "text/plain": [
       "              bwt   gestation      parity         age      height      weight  \\\n",
       "count  732.000000  732.000000  732.000000  732.000000  732.000000  732.000000   \n",
       "mean   123.154372  280.178962    0.260929   27.536885   64.390710  148.493169   \n",
       "std     17.353473   16.637585    0.439442    5.836346    4.391301  128.932548   \n",
       "min     55.000000  148.000000    0.000000   17.000000   56.000000   89.000000   \n",
       "25%    113.000000  273.000000    0.000000   23.000000   62.000000  115.000000   \n",
       "50%    123.500000  281.000000    0.000000   26.500000   64.000000  127.000000   \n",
       "75%    134.000000  289.000000    1.000000   31.000000   66.000000  140.000000   \n",
       "max    176.000000  353.000000    1.000000   45.000000   99.000000  999.000000   \n",
       "\n",
       "       smoke  \n",
       "count  732.0  \n",
       "mean     0.0  \n",
       "std      0.0  \n",
       "min      0.0  \n",
       "25%      0.0  \n",
       "50%      0.0  \n",
       "75%      0.0  \n",
       "max      0.0  "
      ]
     },
     "execution_count": 7,
     "metadata": {},
     "output_type": "execute_result"
    }
   ],
   "source": [
    "data_ns.describe()"
   ]
  },
  {
   "cell_type": "code",
   "execution_count": null,
   "metadata": {
    "collapsed": true
   },
   "outputs": [],
   "source": []
  }
 ],
 "metadata": {
  "anaconda-cloud": {},
  "kernelspec": {
   "display_name": "Python [Root]",
   "language": "python",
   "name": "Python [Root]"
  },
  "language_info": {
   "codemirror_mode": {
    "name": "ipython",
    "version": 3
   },
   "file_extension": ".py",
   "mimetype": "text/x-python",
   "name": "python",
   "nbconvert_exporter": "python",
   "pygments_lexer": "ipython3",
   "version": "3.5.2"
  }
 },
 "nbformat": 4,
 "nbformat_minor": 0
}
