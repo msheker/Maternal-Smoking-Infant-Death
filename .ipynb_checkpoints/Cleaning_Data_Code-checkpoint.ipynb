{
 "cells": [
  {
   "cell_type": "code",
   "execution_count": 1,
   "metadata": {
    "collapsed": true
   },
   "outputs": [],
   "source": [
    "from datascience import *\n",
    "import matplotlib.pyplot as plt\n",
    "import numpy as np\n",
    "import pandas as pd\n",
    "from scipy.stats import *\n",
    "%matplotlib inline\n",
    "\n",
    "babies23_data = Table.read_table('babies23.csv')\n",
    "babies23_df = babies23_data.to_df()\n",
    "\n",
    "babies_data = Table.read_table('babies.csv')\n",
    "babies_df = babies_data.to_df()"
   ]
  },
  {
   "cell_type": "code",
   "execution_count": 2,
   "metadata": {
    "collapsed": true
   },
   "outputs": [],
   "source": [
    "### BABIES\n",
    "# gestation: (13 babies that are recorded with unknown weight (response=999), removing these 13 observations)\n",
    "babies_df =  babies_df[babies_df['gestation'] != 999]\n",
    "\n",
    "# age: removing error ages (two are 99 yrs old and one is 15 yrs old; creating new interval (15, 45]); removing 3 observations)\n",
    "babies_df = babies_df[(babies_df['age'] > 15) & (babies_df[\"age\"] <= 45)]\n",
    "\n",
    "# weight (pre-pregnancy): (36 mothers weight unknown (response=999); removing these 36 observations)\n",
    "babies_df = babies_df[babies_df['weight'] != 999]\n",
    "\n",
    "# smoke: (nine mothers observations are unknown (response=9); removing these 9 observations)\n",
    "babies_df = babies_df[babies_df['smoke'] != 9]\n",
    "\n",
    "\n",
    "###BABIES23\n",
    "# gestation: (13 babies that are recorded with unknown weight (response=999), removing these 13 observations)\n",
    "babies23_df = babies23_df[babies23_df['gestation'] != 999]\n",
    "\n",
    "# age: removing error ages (two are 99 yrs old and one is 15 yrs old; creating new interval (15, 45]); removing 3 observations)\n",
    "babies23_df = babies23_df[(babies23_df['age'] > 15) & (babies23_df[\"age\"] <= 45)]\n",
    "\n",
    "# ed: (removing 1 observation where education is unknown (respone=9))\n",
    "babies23_df[babies23_df['ed'] != 9]\n",
    "\n",
    "# wt.1 (mother's weight pre-pregnancy; removing 39 unknown observations (response=999))\n",
    "babies23_df = babies23_df[babies23_df['wt.1'] != 999]\n",
    "\n",
    "#inc (income: removing 124 observations that are unknown (respone=98))\n",
    "babies23_df = babies23_df[babies23_df['inc'] != 98]\n",
    "\n",
    "# smoke (not binary as in babies, removing 10 observations that are unknown (respone=9))\n",
    "babies23_df = babies23_df[babies23_df['smoke'] != 9]\n",
    "\n",
    "# number (number of cigs smoked; removing 11 observations where we don't know how much they smoke (respone=9) and removing 10 that are unknown (respone=98))\n",
    "babies23_df = babies23_df[babies23_df['number'] != 98]\n",
    "\n",
    "# csv file removing all unneeded observations\n",
    "babies23_df.to_csv('babies23_ALL_vars_cleaned.csv', encoding='utf-8')\n",
    "babies_df.to_csv('babies_ALL_vars_cleaned.csv', encoding='utf-8')"
   ]
  },
  {
   "cell_type": "code",
   "execution_count": null,
   "metadata": {
    "collapsed": true
   },
   "outputs": [],
   "source": []
  }
 ],
 "metadata": {
  "kernelspec": {
   "display_name": "Python [Root]",
   "language": "python",
   "name": "Python [Root]"
  },
  "language_info": {
   "codemirror_mode": {
    "name": "ipython",
    "version": 3
   },
   "file_extension": ".py",
   "mimetype": "text/x-python",
   "name": "python",
   "nbconvert_exporter": "python",
   "pygments_lexer": "ipython3",
   "version": "3.5.2"
  }
 },
 "nbformat": 4,
 "nbformat_minor": 2
}
